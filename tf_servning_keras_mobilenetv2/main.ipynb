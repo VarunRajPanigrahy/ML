{
 "cells": [
  {
   "cell_type": "markdown",
   "metadata": {},
   "source": [
    "# Deploy a trained Keras MobileNet V2 model with Tensorflow Servning\n",
    "\n",
    "I am going to walk you through a complete a guideline of how to:\n",
    "\n",
    "**Part 1:**\n",
    "- Prepare data for training \n",
    "- Trained a deep learning model\n",
    "\n",
    "**Part 2:**\n",
    "- Serve the model with Tensorflow serving.\n",
    "- Deploy to [Heroku](https://www.heroku.com/).\n",
    "\n",
    "**In order to fully benefits from this services:**\n",
    "- You should be familiar with python.\n",
    "- You should have some understanding of what deep learning and neural network is.\n"
   ]
  },
  {
   "cell_type": "markdown",
   "metadata": {},
   "source": [
    "# Helper functions"
   ]
  },
  {
   "cell_type": "code",
   "execution_count": 1,
   "metadata": {
    "collapsed": true
   },
   "outputs": [],
   "source": [
    "import matplotlib.pyplot as plt\n",
    "import numpy as np\n",
    "%matplotlib inline\n",
    "\n",
    "def show_images(images):\n",
    "    \"\"\"\n",
    "    images : numpy arrays\n",
    "    \"\"\"\n",
    "    n_images = len(images)\n",
    "    titles = ['(%d)' % i for i in range(1, n_images + 1)]\n",
    "    num = 5\n",
    "    iter_num = np.ceil(n_images / num).astype(int)\n",
    "    for i in range(iter_num):\n",
    "        fig = plt.figure()\n",
    "        sub_images = images[i * num:num * (i + 1)]\n",
    "        sub_titles = titles[i * num:num * (i + 1)]\n",
    "        for n, (image, title) in enumerate(zip(sub_images, sub_titles)):\n",
    "            a = fig.add_subplot(1, np.ceil(len(sub_images)), n + 1)\n",
    "            if image.ndim == 2:\n",
    "                plt.gray()\n",
    "            a.set_title(title, fontsize=15)\n",
    "            plt.imshow(image)\n"
   ]
  },
  {
   "cell_type": "markdown",
   "metadata": {},
   "source": [
    "## Prepare data for training\n",
    "\n",
    "For the sake of simplicity, I am going to use the fashion mnist dataset because it is already optimized and labeled for a classification problem. \n",
    "Read more about the Fashion-MINST dataset in this paper [here](https://arxiv.org/abs/1708.07747)\n",
    "To download dataset and check other examples [here](https://github.com/zalandoresearch/fashion-mnist)\n",
    "\n",
    "It has 70,000 images, and each image is a grayscale of the size (28X28). \n",
    "which are categories into the following:\n",
    "\n",
    "|Lable|Description|  \n",
    "|-  |      -      |\n",
    "| 0 | T-shirt/top | \n",
    "| 1 | Trouser     | \n",
    "| 2 | Pullover    |  \n",
    "| 3 | Dress       | \n",
    "| 4 | Coat        | \n",
    "| 5 | Sandal      | \n",
    "| 6 | Shirt       |\n",
    "| 7 | Sneaker     | \n",
    "| 8 | Bag         | \n",
    "| 9 | Ankle boot  | \n"
   ]
  },
  {
   "cell_type": "markdown",
   "metadata": {},
   "source": [
    "Let's start downloading the dataset. \n",
    "fortunately, many deep learning (DL) frameworks support fashion mnist dataset out of the box, \n",
    "including keras in our case."
   ]
  },
  {
   "cell_type": "code",
   "execution_count": 2,
   "metadata": {},
   "outputs": [
    {
     "name": "stderr",
     "output_type": "stream",
     "text": [
      "/Users/MoAir/anaconda/envs/g/lib/python3.6/site-packages/h5py/__init__.py:34: FutureWarning: Conversion of the second argument of issubdtype from `float` to `np.floating` is deprecated. In future, it will be treated as `np.float64 == np.dtype(float).type`.\n",
      "  from ._conv import register_converters as _register_converters\n",
      "Using TensorFlow backend.\n"
     ]
    },
    {
     "name": "stdout",
     "output_type": "stream",
     "text": [
      "x_train shape: (60000, 28, 28) y_train shape: (60000,)\n"
     ]
    }
   ],
   "source": [
    "import keras\n",
    "\n",
    "# Load the fashion-mnist train data and test data\n",
    "(x_train, y_train), (x_test, y_test) = keras.datasets.fashion_mnist.load_data()\n",
    "\n",
    "print(\"x_train shape:\", x_train.shape, \"y_train shape:\", y_train.shape)"
   ]
  },
  {
   "cell_type": "markdown",
   "metadata": {},
   "source": [
    "By default `keras.datasets.fashion_mnist.load_data()` is returning training and testing dataset. \n",
    "It is essential to split the dataset into training and  testing. \n",
    "Train data: This data actually to train the neural network (NN) \n",
    "Test: To valid the NN during the traning phase, by tuning and re-adjust the hyperparameters. \n",
    "hyperparameter is a parameter whose value is set before the learning process begins.(we will see them later)\n",
    "\n",
    "**However sometime we see train, valid and test dataset, why?**\n",
    "\n",
    "Glad you ask!\n",
    "\n",
    "After training the NN, we run the training NN against a our validation dataset \n",
    "to make sure that the model is generalized and is not overfitting. Overfitting basically means a model only predict the right result with the training data. However, if a model predicts the incorrectly result for the training data it's called underfitting. Here is a nice explination of [overfitting and underfitting](https://medium.com/greyatom/what-is-underfitting-and-overfitting-in-machine-learning-and-how-to-deal-with-it-6803a989c76).\n",
    "\n",
    "\n",
    "If the validation result was not pleased, we retrain the NN with different hyperparameters and we repeat this until we reach to a satisfied result. Now if the tranined and validation dataset have the result or score we want, we would think we are done. Not so fast!. Since we adjust the hyperparameters, we could lead the model to overfit in both train and valid dataset. To avoid this, we split the dataset into Train, Valid, and Test. \n",
    "After getting the desired score in both train and valid data, we run the model against the test dataset. Usually the test dataset should be closed to the validation result. For example getting 90% in valid data, and 87% in testing is acceptable."
   ]
  },
  {
   "cell_type": "markdown",
   "metadata": {},
   "source": [
    "### Resize images\n",
    "\n",
    "Because we are going to use [MobileNet V2](https://keras.io/applications/#mobilenetv2) model which accept (96 , 96 ,3) format as minimum image size.\n",
    "\n",
    "We need to rescale the image from (28 X 28) to (96 X 96 X 3). \n",
    "\n",
    "Here are the supported formats;\n",
    "> If imagenet weights are being loaded, input must have a static square shape(one of (96, 96), (128, 128), (160, 160),(192, 192), or (224, 224))."
   ]
  },
  {
   "cell_type": "markdown",
   "metadata": {},
   "source": [
    "### Show images before resizing"
   ]
  },
  {
   "cell_type": "code",
   "execution_count": 3,
   "metadata": {},
   "outputs": [
    {
     "data": {
      "image/png": "[encoded data removed]",
      "text/plain": [
       "<matplotlib.figure.Figure at 0xb2a8b92e8>"
      ]
     },
     "metadata": {},
     "output_type": "display_data"
    },
    {
     "data": {
      "image/png": "[encoded data removed]",
      "text/plain": [
       "<matplotlib.figure.Figure at 0xb2a8b9b38>"
      ]
     },
     "metadata": {},
     "output_type": "display_data"
    }
   ],
   "source": [
    "show_images(x_train[:10])"
   ]
  },
  {
   "cell_type": "markdown",
   "metadata": {},
   "source": [
    "#### Resize images"
   ]
  },
  {
   "cell_type": "code",
   "execution_count": 13,
   "metadata": {},
   "outputs": [],
   "source": [
    "from PIL import Image\n",
    "target_size = 96\n",
    "def rescale_images(x):\n",
    "    rgb_channel_image = np.stack((x,)*3, axis=-1).astype(np.uint8)\n",
    "    resize_image = np.array(Image.fromarray(x).resize((target_size,target_size)))\n",
    "    return resize_image.astype(np.float32)\n",
    "\n",
    "rescale_x_train = np.array(list(map(rescale_images,x_train[:30000])))\n",
    "rescale_x_test = np.array(list(map(rescale_images,x_test)))\n"
   ]
  },
  {
   "cell_type": "code",
   "execution_count": 14,
   "metadata": {},
   "outputs": [
    {
     "name": "stdout",
     "output_type": "stream",
     "text": [
      "(30000, 96, 96)\n"
     ]
    },
    {
     "data": {
      "image/png": "[encoded data removed]",
      "text/plain": [
       "<matplotlib.figure.Figure at 0xb2dd64898>"
      ]
     },
     "metadata": {},
     "output_type": "display_data"
    },
    {
     "data": {
      "image/png": "[encoded data removed]",
      "text/plain": [
       "<matplotlib.figure.Figure at 0xb2def0f98>"
      ]
     },
     "metadata": {},
     "output_type": "display_data"
    }
   ],
   "source": [
    "print(rescale_x_train.shape)\n",
    "show_images(rescale_x_train[:10])"
   ]
  },
  {
   "cell_type": "markdown",
   "metadata": {},
   "source": [
    "### Convert labels (y_train and y_test) to one hot encoding\n",
    "A one hot encoding is a representation of categorical variables as binary vectors.\n",
    "\n",
    "[Here is the full explanation](https://machinelearningmastery.com/how-to-one-hot-encode-sequence-data-in-python/)"
   ]
  },
  {
   "cell_type": "code",
   "execution_count": 15,
   "metadata": {
    "collapsed": true
   },
   "outputs": [],
   "source": [
    "y_train = keras.utils.to_categorical(y_train, num_classes=10, dtype='float32')\n",
    "y_test = keras.utils.to_categorical(y_test, num_classes=10, dtype='float32')\n"
   ]
  },
  {
   "cell_type": "markdown",
   "metadata": {},
   "source": [
    "### Data normalization\n",
    "Normalize the data dimensions so that they are of approximately the same scale.In general, normalization makes very deep NN easier to train, special in Convolutional and Recurrent neural network.\n",
    "\n",
    "Here is a nice explanation [video](https://www.coursera.org/lecture/deep-neural-network/normalizing-activations-in-a-network-4ptp2) and an [article](https://medium.com/@darrenyaoyao.huang/why-we-need-normalization-in-deep-learning-from-batch-normalization-to-group-normalization-d06ea0e59c17)"
   ]
  },
  {
   "cell_type": "code",
   "execution_count": 18,
   "metadata": {},
   "outputs": [
    {
     "data": {
      "image/png": "[encoded data removed]",
      "text/plain": [
       "<matplotlib.figure.Figure at 0xb2de1b8d0>"
      ]
     },
     "metadata": {},
     "output_type": "display_data"
    },
    {
     "data": {
      "image/png": "[encoded data removed]",
      "text/plain": [
       "<matplotlib.figure.Figure at 0xb48fc94a8>"
      ]
     },
     "metadata": {},
     "output_type": "display_data"
    }
   ],
   "source": [
    "norm_x_train = rescale_x_train.astype('float32') / 255\n",
    "norm_x_test = rescale_x_test.astype('float32') / 255\n",
    "# dsiplay images\n",
    "show_images(norm_x_train[:10])"
   ]
  },
  {
   "cell_type": "markdown",
   "metadata": {},
   "source": [
    "## Train a deep learning Model\n",
    "\n",
    "I have chosn MobileNet V2 model becuase its faster to train and it is small in size. [Documentation for Individual Models](https://keras.io/applications/#documentation-for-individual-models) "
   ]
  },
  {
   "cell_type": "code",
   "execution_count": 19,
   "metadata": {},
   "outputs": [],
   "source": [
    "from keras.applications.mobilenetv2 import MobileNetV2\n",
    "from keras.layers import Dense, Input, Dropout\n",
    "from keras.models import Model\n",
    "\n",
    "def build_model( ):\n",
    "    input_tensor = Input(shape=(target_size, target_size, 3))\n",
    "    app_model = MobileNetV2(\n",
    "        include_top=False,\n",
    "        weights='imagenet',\n",
    "        input_tensor=input_tensor,\n",
    "        input_shape=(target_size, target_size, 3),\n",
    "        pooling='avg')\n",
    "\n",
    "    for layer in app_model.layers:\n",
    "        layer.trainable = False  # trainable has to be false in order to freez the layers\n",
    "        \n",
    "    op = Dense(256, activation='relu')(app_model.output)\n",
    "    op = Dropout(.25)(op)\n",
    "    outputs = Dense(10, activation='softmax')(op)\n",
    "\n",
    "    model = Model(inputs=input_tensor, outputs=outputs)\n",
    "\n",
    "\n",
    "    return model\n"
   ]
  },
  {
   "cell_type": "code",
   "execution_count": null,
   "metadata": {
    "collapsed": true
   },
   "outputs": [],
   "source": [
    "model = build_model()\n",
    "model.compile(optimizer=keras.optimizers.Adam(),\n",
    "              loss='categorical_crossentropy',\n",
    "              metrics=['categorical_accuracy'])"
   ]
  },
  {
   "cell_type": "code",
   "execution_count": null,
   "metadata": {},
   "outputs": [],
   "source": [
    "model.fit(x=rescale_x_train[:1000],\n",
    "            y=y_train[:1000],\n",
    "            batch_size=128,\n",
    "            epochs=1,\n",
    "            verbose=1,\n",
    "            shuffle=True)"
   ]
  },
  {
   "cell_type": "code",
   "execution_count": null,
   "metadata": {},
   "outputs": [],
   "source": [
    "model.evaluate(x=rescale_x_test[:100],\n",
    "               y=y_test[:100], \n",
    "               batch_size=32, \n",
    "               verbose=1)\n"
   ]
  },
  {
   "cell_type": "code",
   "execution_count": null,
   "metadata": {
    "collapsed": true
   },
   "outputs": [],
   "source": []
  }
 ],
 "metadata": {
  "kernelspec": {
   "display_name": "Python 3",
   "language": "python",
   "name": "python3"
  },
  "language_info": {
   "codemirror_mode": {
    "name": "ipython",
    "version": 3
   },
   "file_extension": ".py",
   "mimetype": "text/x-python",
   "name": "python",
   "nbconvert_exporter": "python",
   "pygments_lexer": "ipython3",
   "version": "3.6.6"
  }
 },
 "nbformat": 4,
 "nbformat_minor": 2
}
