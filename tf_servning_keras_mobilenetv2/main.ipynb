{
 "cells": [
  {
   "cell_type": "markdown",
   "metadata": {},
   "source": [
    "# Using Tensorflow Servning to deploy a trained Keras MobileNet V2 model \n",
    "\n",
    "I am going to walk you through a complete a guideline of how to:\n",
    "\n",
    "**Part 1:**\n",
    "- Prepare data for training \n",
    "- Trained a deep learning model\n",
    "\n",
    "**Part 2:**\n",
    "- Serve the model with Tensorflow serving.\n",
    "- Deploy to [Heroku](https://www.heroku.com/).\n",
    "\n",
    "**In order to fully benefits from this services:**\n",
    "- You should be familiar with python.\n",
    "- You should have some understanding of what deep learning and neural network is.\n"
   ]
  },
  {
   "cell_type": "markdown",
   "metadata": {},
   "source": [
    "## Prepare data for training\n",
    "\n",
    "For the sake of simplicity, I am going to use the fashion mnist dataset because it is already optimized and labeled for a classification problem. \n",
    "It has 70,000 images, and each image is a grayscale of the size (28X28). \n",
    "which are categories into the following:\n",
    "\n",
    "|Lable|Description|  \n",
    "|-  |      -      |\n",
    "| 0 | T-shirt/top | \n",
    "| 1 | Trouser     | \n",
    "| 2 | Pullover    |  \n",
    "| 3 | Dress       | \n",
    "| 4 | Coat        | \n",
    "| 5 | Sandal      | \n",
    "| 6 | Shirt       |\n",
    "| 7 | Sneaker     | \n",
    "| 8 | Bag         | \n",
    "| 9 | Ankle boot  | \n"
   ]
  },
  {
   "cell_type": "markdown",
   "metadata": {},
   "source": [
    "Let's start downloading the dataset. \n",
    "fortunately, many deep learning (DL) frameworks support fashion mnist dataset out of the box, \n",
    "including keras in our case."
   ]
  },
  {
   "cell_type": "code",
   "execution_count": 1,
   "metadata": {},
   "outputs": [
    {
     "name": "stderr",
     "output_type": "stream",
     "text": [
      "/Users/MoAir/anaconda/envs/g/lib/python3.6/site-packages/h5py/__init__.py:34: FutureWarning: Conversion of the second argument of issubdtype from `float` to `np.floating` is deprecated. In future, it will be treated as `np.float64 == np.dtype(float).type`.\n",
      "  from ._conv import register_converters as _register_converters\n",
      "Using TensorFlow backend.\n"
     ]
    },
    {
     "name": "stdout",
     "output_type": "stream",
     "text": [
      "Downloading data from http://fashion-mnist.s3-website.eu-central-1.amazonaws.com/train-labels-idx1-ubyte.gz\n",
      "32768/29515 [=================================] - 0s 4us/step\n",
      "Downloading data from http://fashion-mnist.s3-website.eu-central-1.amazonaws.com/train-images-idx3-ubyte.gz\n",
      "26427392/26421880 [==============================] - 9s 0us/step\n",
      "Downloading data from http://fashion-mnist.s3-website.eu-central-1.amazonaws.com/t10k-labels-idx1-ubyte.gz\n",
      "8192/5148 [===============================================] - 0s 0us/step\n",
      "Downloading data from http://fashion-mnist.s3-website.eu-central-1.amazonaws.com/t10k-images-idx3-ubyte.gz\n",
      "4423680/4422102 [==============================] - 4s 1us/step\n",
      "x_train shape: (60000, 28, 28) y_train shape: (10000, 28, 28)\n"
     ]
    }
   ],
   "source": [
    "import keras\n",
    "\n",
    "# Load the fashion-mnist train data and test data\n",
    "(x_train, y_train), (x_test, y_test) = keras.datasets.fashion_mnist.load_data()\n",
    "\n",
    "print(\"x_train shape:\", x_train.shape, \"y_train shape:\", x_test.shape)\n"
   ]
  },
  {
   "cell_type": "markdown",
   "metadata": {},
   "source": [
    "By default `keras.datasets.fashion_mnist.load_data()` is returning training and testing dataset. \n",
    "It is essential to split the dataset into training and  testing. \n",
    "Train data: This data actually to train the neural network (NN) \n",
    "Test: To valid the NN during the traning phase, by tuning and re-adjust the hyperparameters. \n",
    "hyperparameter is a parameter whose value is set before the learning process begins.(we will see them later)\n",
    "\n",
    "**However sometime we see train, valid and test dataset, why?**\n",
    "\n",
    "Glad you ask!\n",
    "\n",
    "After training the NN, we run the training NN against a our validation dataset \n",
    "to make sure that the model is generalized and is not overfitting. Overfitting basically means a model only predict the right result with the training data. However, if a model predicts the incorrectly result for the training data it's called underfitting. Here is a nice explination of [overfitting and underfitting](https://medium.com/greyatom/what-is-underfitting-and-overfitting-in-machine-learning-and-how-to-deal-with-it-6803a989c76).\n",
    "\n",
    "\n",
    "If the validation result was not pleased, we retrain the NN with different hyperparameters and we repeat this until we reach to a satisfied result. Now if the tranined and validation dataset have the result or score we want, we would think we are done. Not so fast!. Since we adjust the hyperparameters, we could lead the model to overfit in both train and valid dataset. To avoid this, we split the dataset into Train, Valid, and Test. \n",
    "After getting the desired score in both train and valid data, we run the model against the test dataset. Usually the test dataset should be closed to the validation result. For example getting 90% in valid data, and 87% in testing is acceptable."
   ]
  },
  {
   "cell_type": "markdown",
   "metadata": {},
   "source": [
    "### Data normalization\n",
    "TDOD: add short explanation of data normalization and link to longer article on what, why data normalization is important"
   ]
  },
  {
   "cell_type": "code",
   "execution_count": 2,
   "metadata": {
    "collapsed": true
   },
   "outputs": [],
   "source": [
    "## We then normalize the data dimensions so that they are of approximately the same scale.\n",
    "x_train = x_train.astype('float32') / 255\n",
    "x_test = x_test.astype('float32') / 255"
   ]
  },
  {
   "cell_type": "markdown",
   "metadata": {},
   "source": [
    "## Train a deep learning Model\n",
    "\n",
    "I have chosn MobileNet V2 model becuase its faster to train and it is small in size. [Documentation for Individual Models](https://keras.io/applications/#documentation-for-individual-models) "
   ]
  },
  {
   "cell_type": "code",
   "execution_count": null,
   "metadata": {
    "collapsed": true
   },
   "outputs": [],
   "source": [
    "from keras.applications.mobilenetv2 import MobileNetV2\n",
    "\n",
    "model = MobileNetV2(include_top=False)\n"
   ]
  }
 ],
 "metadata": {
  "kernelspec": {
   "display_name": "Python 3",
   "language": "python",
   "name": "python3"
  },
  "language_info": {
   "codemirror_mode": {
    "name": "ipython",
    "version": 3
   },
   "file_extension": ".py",
   "mimetype": "text/x-python",
   "name": "python",
   "nbconvert_exporter": "python",
   "pygments_lexer": "ipython3",
   "version": "3.6.6"
  }
 },
 "nbformat": 4,
 "nbformat_minor": 2
}
