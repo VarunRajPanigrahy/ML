{
 "cells": [
  {
   "cell_type": "markdown",
   "metadata": {},
   "source": [
    "# Train Keras MobileNet V2 model & Deploy to Heroku by using Tensorflow Servning\n",
    "\n",
    "I am going to walk you through a complete a guideline of how to:\n",
    "\n",
    "**Part 1:**\n",
    "- Prepare data for training \n",
    "- Trained a deep learning model\n",
    "\n",
    "**Part 2:**\n",
    "- Serve the model with Tensorflow serving.\n",
    "- Deploy to [Heroku](https://www.heroku.com/).\n",
    "\n",
    "**In order to fully benefits from this services:**\n",
    "- You should be familiar with python.\n",
    "- You should have some understanding of what deep learning and neural network is.\n",
    "\n",
    "**Here is the list of what I am going to use:**\n",
    "- [Keras 2.2](https://keras.io/)\n",
    "- [Tensorflow 1.11](https://www.tensorflow.org/)\n",
    "- [Python 3.6](https://www.python.org/downloads/release/python-367/)\n",
    "- [scikit-image 0.14](https://scikit-image.org/)\n",
    "- [scikit-learn 0.19](http://scikit-learn.org/)\n"
   ]
  },
  {
   "cell_type": "markdown",
   "metadata": {},
   "source": [
    "# Helper functions"
   ]
  },
  {
   "cell_type": "code",
   "execution_count": null,
   "metadata": {
    "collapsed": true
   },
   "outputs": [],
   "source": [
    "import matplotlib.pyplot as plt\n",
    "import numpy as np\n",
    "%matplotlib inline\n",
    "\n",
    "def show_images(images):\n",
    "    \"\"\"\n",
    "    images : numpy arrays\n",
    "    \"\"\"\n",
    "    n_images = len(images)\n",
    "    titles = ['(%d)' % i for i in range(1, n_images + 1)]\n",
    "    num = 5\n",
    "    iter_num = np.ceil(n_images / num).astype(int)\n",
    "    for i in range(iter_num):\n",
    "        fig = plt.figure()\n",
    "        sub_images = images[i * num:num * (i + 1)]\n",
    "        sub_titles = titles[i * num:num * (i + 1)]\n",
    "        for n, (image, title) in enumerate(zip(sub_images, sub_titles)):\n",
    "            a = fig.add_subplot(1, np.ceil(len(sub_images)), n + 1)\n",
    "            if image.ndim == 2:\n",
    "                plt.gray()\n",
    "            a.set_title(title, fontsize=15)\n",
    "            plt.imshow(image)\n"
   ]
  },
  {
   "cell_type": "markdown",
   "metadata": {},
   "source": [
    "## Prepare data for training\n",
    "\n",
    "For the sake of simplicity, I am going to use the fashion mnist dataset because it is already optimized and labeled for a classification problem. \n",
    "Read more about the Fashion-MINST dataset in this paper [here](https://arxiv.org/abs/1708.07747)\n",
    "To download dataset and check other examples [here](https://github.com/zalandoresearch/fashion-mnist)\n",
    "\n",
    "It has 70,000 images, and each image is a grayscale of the size (28X28). \n",
    "which are categories into the following:\n",
    "\n",
    "|Lable|Description|  \n",
    "|-  |      -      |\n",
    "| 0 | T-shirt/top | \n",
    "| 1 | Trouser     | \n",
    "| 2 | Pullover    |  \n",
    "| 3 | Dress       | \n",
    "| 4 | Coat        | \n",
    "| 5 | Sandal      | \n",
    "| 6 | Shirt       |\n",
    "| 7 | Sneaker     | \n",
    "| 8 | Bag         | \n",
    "| 9 | Ankle boot  | \n"
   ]
  },
  {
   "cell_type": "markdown",
   "metadata": {},
   "source": [
    "Let's start downloading the dataset. \n",
    "fortunately, many deep learning (DL) frameworks support fashion mnist dataset out of the box, \n",
    "including keras in our case."
   ]
  },
  {
   "cell_type": "code",
   "execution_count": null,
   "metadata": {},
   "outputs": [],
   "source": [
    "import keras\n",
    "\n",
    "# Load the fashion-mnist train data and test data\n",
    "(x_train, y_train), (x_test, y_test) = keras.datasets.fashion_mnist.load_data()\n",
    "\n",
    "print(\"x_train shape:\", x_train.shape, \"y_train shape:\", y_train.shape)\n",
    "\n"
   ]
  },
  {
   "cell_type": "markdown",
   "metadata": {},
   "source": [
    "### Show samples of data"
   ]
  },
  {
   "cell_type": "code",
   "execution_count": null,
   "metadata": {},
   "outputs": [],
   "source": [
    "show_images(x_train[:10])"
   ]
  },
  {
   "cell_type": "markdown",
   "metadata": {},
   "source": [
    "By default `keras.datasets.fashion_mnist.load_data()` is returning training and testing dataset. \n",
    "It is essential to split the dataset into training and  testing. \n",
    "Train data: This data actually to train the neural network (NN) \n",
    "Test: To valid the NN during the traning phase, by tuning and re-adjust the hyperparameters. \n",
    "hyperparameter is a parameter whose value is set before the learning process begins.(we will see them later)\n",
    "\n",
    "**However sometime we see train, valid and test dataset, why?**\n",
    "\n",
    "Glad you ask!\n",
    "\n",
    "After training the NN, we run the training NN against a our validation dataset \n",
    "to make sure that the model is generalized and is not overfitting. Overfitting basically means a model only predict the right result with the training data. However, if a model predicts the incorrectly result for the training data it's called underfitting. Here is a nice explination of [overfitting and underfitting](https://medium.com/greyatom/what-is-underfitting-and-overfitting-in-machine-learning-and-how-to-deal-with-it-6803a989c76).\n",
    "\n",
    "\n",
    "If the validation result was not pleased, we retrain the NN with different hyperparameters and we repeat this until we reach to a satisfied result. Now if the tranined and validation dataset have the result or score we want, we would think we are done. Not so fast!. Since we adjust the hyperparameters, we could lead the model to overfit in both train and valid dataset. To avoid this, we split the dataset into Train, Valid, and Test. \n",
    "After getting the desired score in both train and valid data, we run the model against the test dataset. Usually the test dataset should be closed to the validation result. For example getting 90% in valid data, and 87% in testing is acceptable."
   ]
  },
  {
   "cell_type": "markdown",
   "metadata": {},
   "source": [
    "### Data normalization\n",
    "Normalize the data dimensions so that they are of approximately the same scale.In general, normalization makes very deep NN easier to train, special in Convolutional and Recurrent neural network.\n",
    "\n",
    "Here is a nice explanation [video](https://www.coursera.org/lecture/deep-neural-network/normalizing-activations-in-a-network-4ptp2) and an [article](https://medium.com/@darrenyaoyao.huang/why-we-need-normalization-in-deep-learning-from-batch-normalization-to-group-normalization-d06ea0e59c17)"
   ]
  },
  {
   "cell_type": "code",
   "execution_count": null,
   "metadata": {},
   "outputs": [],
   "source": [
    "norm_x_train = x_train.astype('float32') / 255\n",
    "norm_x_test = x_test.astype('float32') / 255\n",
    "# dsiplay images\n",
    "show_images(norm_x_train[:10])"
   ]
  },
  {
   "cell_type": "markdown",
   "metadata": {},
   "source": [
    "### Convert labels (y_train and y_test) to one hot encoding\n",
    "A one hot encoding is a representation of categorical variables as binary vectors.\n",
    "\n",
    "[Here is the full explanation](https://machinelearningmastery.com/how-to-one-hot-encode-sequence-data-in-python/)"
   ]
  },
  {
   "cell_type": "code",
   "execution_count": null,
   "metadata": {
    "collapsed": true
   },
   "outputs": [],
   "source": [
    "encoded_y_train = keras.utils.to_categorical(y_train, num_classes=10, dtype='float32')\n",
    "encoded_y_test = keras.utils.to_categorical(y_test, num_classes=10, dtype='float32')\n"
   ]
  },
  {
   "cell_type": "markdown",
   "metadata": {},
   "source": [
    "### Resize images\n",
    "\n",
    "Because we are going to use [MobileNet V2](https://keras.io/applications/#mobilenetv2) model, which accept (96 , 96 ,3) format as minimum image size.\n",
    "\n",
    "We need to resize the image and convert to 3 channel (RGB.\n",
    "from (28 X 28) to (96 X 96 X 3). \n",
    "\n",
    "Here are the supported formats;\n",
    "> If imagenet weights are being loaded, input must have a static square shape(one of (96, 96), (128, 128), (160, 160),(192, 192), or (224, 224))."
   ]
  },
  {
   "cell_type": "code",
   "execution_count": null,
   "metadata": {
    "collapsed": true
   },
   "outputs": [],
   "source": [
    "from skimage.transform import resize\n",
    "\n",
    "target_size = 96\n",
    "def preprocess_image(x):\n",
    "    # convert to 3 channel\n",
    "    x = resize(x, (target_size, target_size),\n",
    "            mode='constant',\n",
    "            anti_aliasing=False)\n",
    "    x = np.stack((x,)*3, axis=-1) \n",
    "    return x.astype(np.float32)\n",
    "    "
   ]
  },
  {
   "cell_type": "markdown",
   "metadata": {},
   "source": [
    "If we resize all the training and testing data, it will eat up a lot of memory resources; therefore, we are going to use generator.   \n",
    "[Python Generators](https://www.programiz.com/python-programming/generator) are a simple way of creating iterators. "
   ]
  },
  {
   "cell_type": "code",
   "execution_count": null,
   "metadata": {
    "collapsed": true
   },
   "outputs": [],
   "source": [
    "from sklearn.utils import shuffle\n",
    "\n",
    "def load_data_generator(x,y, batch_size=64):\n",
    "    num_samples = x.shape[0]\n",
    "    while 1:  # Loop forever so the generator never terminates\n",
    "        try:\n",
    "            shuffle(x)\n",
    "            for offset in range(0, num_samples, batch_size):\n",
    "                x_data =  [preprocess_image(img) for img in x[offset:offset + batch_size]]\n",
    "                y_data = y[offset:offset + batch_size]\n",
    "                # convert to numpy array since this what keras required\n",
    "                yield shuffle(np.array(x_data), np.array(y_data))\n",
    "        except Exception as err:\n",
    "            print(err)"
   ]
  },
  {
   "cell_type": "markdown",
   "metadata": {},
   "source": [
    "## Train a deep learning Model\n",
    "\n",
    "### Transfer Learning\n",
    "Transfer learning in deep learning means to transfer knownlady from one domain to another similar one.\n",
    "In our example, I have chosen MobileNet V2 model because it’s faster to train and small in size. [Documentation for Individual Models](https://keras.io/applications/#documentation-for-individual-models).\n",
    "MobileNet is pre-trained with [ImageNet dataset](http://www.image-net.org/) with 1000 classes or categories. \n",
    "We are using this model and re-train it with our dataset and 10 classes only. Because we are using pre-trained model that has been trained on different dataset (domain), then we are using transfer learning :). Here is a nice article example it in more details. [A Gentle Introduction to Transfer Learning for Deep Learning](https://machinelearningmastery.com/transfer-learning-for-deep-learning/)\n"
   ]
  },
  {
   "cell_type": "markdown",
   "metadata": {},
   "source": [
    "We can freez the MobileNet trained layers and only trained the layers we added. \n",
    "by the following:\n",
    "```\n",
    "for layer in app_model.layers:\n",
    "        layer.trainable = False \n",
    "```\n",
    "\n",
    "**When do I need to re-train the trainable layers?**   \n",
    "When you have large dataset to train, in our case we just have enough data, however,    \n",
    "I trained with `layer.trainable = True` you can try the other way around and see the result.\n"
   ]
  },
  {
   "cell_type": "code",
   "execution_count": null,
   "metadata": {
    "collapsed": true
   },
   "outputs": [],
   "source": [
    "from keras.applications.mobilenetv2 import MobileNetV2\n",
    "from keras.layers import Dense, Input, Dropout\n",
    "from keras.models import Model\n",
    "\n",
    "def build_model( ):\n",
    "    input_tensor = Input(shape=(target_size, target_size, 3))\n",
    "    app_model = MobileNetV2(\n",
    "        include_top=False,\n",
    "        weights='imagenet',\n",
    "        input_tensor=input_tensor,\n",
    "        input_shape=(target_size, target_size, 3),\n",
    "        pooling='avg')\n",
    "\n",
    "    for layer in app_model.layers:\n",
    "        layer.trainable = True  # trainable has to be false in order to freez the layers\n",
    "        \n",
    "    op = Dense(256, activation='relu')(app_model.output)\n",
    "    op = Dropout(.25)(op)\n",
    "    outputs = Dense(10, activation='softmax')(op)\n",
    "\n",
    "    model = Model(inputs=input_tensor, outputs=outputs)\n",
    "\n",
    "\n",
    "    return model\n"
   ]
  },
  {
   "cell_type": "markdown",
   "metadata": {},
   "source": [
    "### Build and compile the model\n",
    "The most interesting thing in our model is the last layer\n",
    "```\n",
    " outputs = Dense(10, activation='softmax')(op)\n",
    "```\n",
    "10 indicates that the final result should have a change of (10,) which reprease our 10 classes\n",
    "\n",
    "**softmax:** calculates a probability for every possible class.   \n",
    "**activation='softmax'**: return the highest probability;    \n",
    "for example, if `Coat` is the highest probability then the result would be something like [0,0,0,0,1,0,0,0,0,0] with `1` in index 5 indicate `Coat`.\n"
   ]
  },
  {
   "cell_type": "code",
   "execution_count": null,
   "metadata": {
    "collapsed": true
   },
   "outputs": [],
   "source": [
    "model = build_model()\n",
    "model.compile(optimizer=keras.optimizers.Adam(),\n",
    "              loss='categorical_crossentropy',\n",
    "              metrics=['categorical_accuracy'])"
   ]
  },
  {
   "cell_type": "markdown",
   "metadata": {},
   "source": [
    "### Train\n",
    "Now we are ready to train the model.\n",
    "\n",
    "**epochs**: \n",
    " > One Epoch is when an ENTIRE dataset is passed forward and backward through the neural network only ONCE. [1]\n",
    "\n",
    "**Batch Size**\n",
    "> Total number of training examples present in a single batch.[1]\n"
   ]
  },
  {
   "cell_type": "code",
   "execution_count": null,
   "metadata": {},
   "outputs": [],
   "source": [
    "train_generator = load_data_generator(norm_x_train, encoded_y_train, batch_size=64)\n",
    "\n",
    "model.fit_generator(\n",
    "    generator=train_generator,\n",
    "    steps_per_epoch=900,\n",
    "    verbose=1,\n",
    "    epochs=5)"
   ]
  },
  {
   "cell_type": "markdown",
   "metadata": {},
   "source": [
    "### Test"
   ]
  },
  {
   "cell_type": "code",
   "execution_count": null,
   "metadata": {
    "collapsed": true
   },
   "outputs": [],
   "source": [
    "test_generator = load_data_generator(norm_x_test, encoded_y_test, batch_size=64)\n",
    "model.evaluate_generator(generator=test_generator,steps=900,verbose=1)"
   ]
  },
  {
   "cell_type": "markdown",
   "metadata": {},
   "source": [
    "## Save model\n",
    "Save the model to be reused in part 2."
   ]
  },
  {
   "cell_type": "code",
   "execution_count": null,
   "metadata": {
    "collapsed": true
   },
   "outputs": [],
   "source": [
    "model_name = \"tf_servning_keras_mobilenetv2\"\n",
    "model.save(f\"models/{model_name}.h5\")"
   ]
  },
  {
   "cell_type": "markdown",
   "metadata": {},
   "source": [
    "(for medium only)\n",
    "# Conclusion \n",
    "In the end of this part, here what we have learning.\n",
    "We were able to prepare a the fashion dataset for MobileNetV2 model. \n",
    "And use MobileNet as our base model for transfer learning.\n",
    "And we got `94%` accuracy in training and  `86%` accuracy in testing.\n",
    "In part 2 we are going save the model to a format the tensorflow serving can read. \n",
    "and then deploy to heroku. Thank you for ready and If you have any question or suggests, \n",
    "please leave them down in the comments\n"
   ]
  },
  {
   "cell_type": "markdown",
   "metadata": {
    "collapsed": true
   },
   "source": [
    "## Part 2"
   ]
  },
  {
   "cell_type": "markdown",
   "metadata": {},
   "source": [
    "## Makes Model ready to tensorflow serving\n",
    "\n",
    "### Tensorflow serving \n",
    "[TensorFlow Serving](https://www.tensorflow.org/serving/overview) is a flexible, high-performance serving system for machine learning models, designed for **production** environments.\n",
    "\n",
    "\n",
    "#### Load the saved model from Part 1\n"
   ]
  },
  {
   "cell_type": "code",
   "execution_count": null,
   "metadata": {},
   "outputs": [],
   "source": [
    "from keras.models import load_model\n",
    "model = load_model(f\"models/{model_name}.h5\")"
   ]
  },
  {
   "cell_type": "markdown",
   "metadata": {},
   "source": [
    "### Build & Save model to be tensorflow serving ready\n"
   ]
  },
  {
   "cell_type": "code",
   "execution_count": null,
   "metadata": {},
   "outputs": [],
   "source": [
    "import os\n",
    "import tensorflow as tf\n",
    "# Import the libraries needed for saving models\n",
    "# Note that in some other tutorials these are framed as coming from tensorflow_serving_api which is no longer correct\n",
    "from tensorflow.python.saved_model import builder as saved_model_builder\n",
    "from tensorflow.python.saved_model import tag_constants, signature_constants, signature_def_utils_impl\n",
    "\n",
    "# images will be the input key name\n",
    "# scores will be the out key name\n",
    "prediction_signature = tf.saved_model.signature_def_utils.predict_signature_def(\n",
    "    {\n",
    "    \"images\": model.input\n",
    "    }, {\n",
    "    \"scores\": model.output\n",
    "    })\n",
    "\n",
    "# export_path is a directory in which the model will be created\n",
    "export_path = os.path.join(\n",
    "    tf.compat.as_bytes('models/export/{}'.format(model_name)),\n",
    "    tf.compat.as_bytes('1'))\n",
    "\n",
    "builder = saved_model_builder.SavedModelBuilder(export_path)\n",
    "\n",
    "sess = keras.backend.get_session()\n",
    "\n",
    "# Add the meta_graph and the variables to the builder\n",
    "builder.add_meta_graph_and_variables(\n",
    "    sess, [tag_constants.SERVING],\n",
    "    signature_def_map={\n",
    "        'prediction': prediction_signature,\n",
    "    })\n",
    "# save the graph\n",
    "builder.save()"
   ]
  },
  {
   "cell_type": "markdown",
   "metadata": {},
   "source": [
    "## Setting up Heroku & Docker\n",
    "Nice work, almost there, now we are going to deploy our model to heroku, \n",
    "so we can call it.\n",
    "\n",
    "[Heroku](https://www.heroku.com/) is a cloud platform as a service supporting several programming languages.\n",
    "[docker]() allows us to package all the necessary libraries and programer into a container. Here is a nice [Introduction to Containers, VMs and Docker](https://medium.freecodecamp.org/a-beginner-friendly-introduction-to-containers-vms-and-docker-79a9e3e119b)\n",
    "\n",
    "\n",
    "- [Install docker for macOS and windows](https://www.docker.com/products/docker-desktop)\n",
    "- A little more work for Ubuntu users but still straightforward [Install docker for Ubuntu](https://docs.docker.com/install/linux/docker-ce/ubuntu/#upgrade-docker-ce)\n",
    "- [Signup to Heroku](https://signup.heroku.com/)\n",
    "- [Install heroku-cli](https://devcenter.heroku.com/articles/heroku-cli#download-and-install)\n",
    "\n",
    "### After you have installed docker and heroku-cli.\n",
    "\n",
    "Run the following to make sure docker & heroku have been installed correctly\n",
    "```\n",
    "> docker ps \n",
    "CONTAINER ID IMAGE COMMAND CREATED STATUS PORTS NAMES\n",
    "\n",
    "> heroku --version\n",
    "heroku/7.18.3 darwin-x64 node-v10.12.0\n",
    "\n",
    "# make sure to loign to your heroku account\n",
    "heroku login\n",
    "# Output should have:   \n",
    "Logged in as xxxxx@xxx.xx\n",
    "```\n"
   ]
  },
  {
   "cell_type": "markdown",
   "metadata": {},
   "source": [
    "### Deploy the model to Heroku\n",
    "\n",
    "#### Download tensorflow serving image from `hub.docker.com`\n",
    "Because tensorflow serving docker image was not optimized for heroku. \n",
    "\n",
    "I have created a dockerfile that following heroku instructure.\n",
    "cleck [here](https://github.com/malnakli/ML/tf_servning_keras_mobilenetv2/Dockerfile) to look at.\n",
    "Also I have pushed the a docker image that ready to deply to heroku, which already have the trained model. \n",
    "`docker pull malnakli/ml:tf-serving-heroku-1.11`\n",
    "\n",
    "However, I will walk you through how to do build the image that has your trained model\n",
    "\n",
    "Run the following:\n",
    "`docker build -t tf-serving-heroku-1.11 .`\n",
    "\n",
    "Once the image build. you can run it locally.\n",
    "`docker run -p 8501:8501 -e PORT=8501 -t tf-serving-heroku-1.11`\n",
    "\n",
    "If you see the following the last output, then it works.\n",
    "```\n",
    "2018-10-27 21:17:47.515120: I tensorflow_serving/model_servers/server.cc:301] Exporting HTTP/REST API at:localhost:8501 ...\n",
    "```\n",
    "#### Deploy\n",
    "\n",
    "##### Log in to Container Registry:\n",
    "`heroku container:login`\n",
    "\n",
    "##### Create a heroku app\n",
    "`heroku create ${YOUR_APP_NAME}`\n",
    "\n",
    "#### Push the docker image to heroku\n",
    "`heroku  container:push web -a ${YOUR_APP_NAME}`   \n",
    "`heroku container:release web -a ${YOUR_APP_NAME}`"
   ]
  },
  {
   "cell_type": "markdown",
   "metadata": {},
   "source": [
    "### Call the model\n",
    "Tensorflow serving RESTful API syntax as following:\n",
    "```\n",
    "POST http://host:port/<URI>:<VERB>\n",
    "\n",
    "URI: /v1/models/${MODEL_NAME}[/versions/${MODEL_VERSION}]\n",
    "VERB: classify|regress|predict\n",
    "```\n",
    "And you can see the full documentation about RESTful API in [Here](https://www.tensorflow.org/serving/api_rest). \n",
    "\n",
    "In our case the reqest will look like as:\n",
    "\n",
    "> `http://localhost:8501//v1/models/tf_servning_keras_mobilenetv2/versions/1:predict`\n",
    "\n",
    "Keep in mind that JSON data sent to TensorFlow Model Server has to be structured in a very particular way\n",
    "```\n",
    "{\n",
    "  // (Optional) Serving signature to use.\n",
    "  // If unspecifed default serving signature is used.\n",
    "  \"signature_name\": <string>,\n",
    "\n",
    "  // Input Tensors in row (\"instances\") or columnar (\"inputs\") format.\n",
    "  // A request can have either of them but NOT both.\n",
    "  \"instances\": <value>|<(nested)list>|<list-of-objects>\n",
    "  \"inputs\": <value>|<(nested)list>|<object>\n",
    "}\n",
    "```\n",
    "\n",
    "Now I will show you how we can call the model. However, before calling our model, we need to resize the image and convert them no float32 image_preprcess(image) function from part 1\n"
   ]
  },
  {
   "cell_type": "code",
   "execution_count": null,
   "metadata": {},
   "outputs": [],
   "source": [
    "from urllib import request\n",
    "from PIL import Image\n",
    "\n",
    "image_url = \"https://cdn.shopify.com/s/files/1/2029/4253/products/Damb_Back_2a3cc4cc-06c2-488e-8918-2e7a1cde3dfc_530x@2x.jpg\"\n",
    "image_path = f\"tmp/{image_url.split('/')[-1]}\"\n",
    "# download image\n",
    "with request.urlopen(url=image_url, timeout=10) as response:\n",
    "    data = response.read()\n",
    "    with open(image_path, 'wb') as f:\n",
    "        f.write(data)\n",
    "\n",
    "# convert image to grayscale.\n",
    "image = Image.open(image_path).convert('L')\n",
    "# resize the image to 28 28 to make sure it is similar to our dataset\n",
    "image.thumbnail((28,28))\n",
    "image = preprocess_image(np.array(image))\n",
    "print(image.shape)\n",
    "show_images([image])"
   ]
  },
  {
   "cell_type": "markdown",
   "metadata": {},
   "source": [
    "Our finall call in `curl` will look like as:\n",
    "```\n",
    "curl -X POST \\\n",
    "  https:// ${YOUR_APP_NAME}.herokuapp.com/v1/models/tf_servning_keras_mobilenetv2/versions/1:predict  \\\n",
    "  -d '{\"signature_name\":\"prediction\",\"instances\":[{\"images\":image.tolist()}]}'\n",
    "```"
   ]
  },
  {
   "cell_type": "code",
   "execution_count": null,
   "metadata": {},
   "outputs": [],
   "source": [
    "import requests\n",
    "import json\n",
    "# change https://tf-servning-keras-mobilenetv2.herokuapp.com to your url or \n",
    "# if you ran the docker locally, then replace with http://localhost:8501\n",
    "url = f\"https://tf-servning-keras-mobilenetv2.herokuapp.com/v1/models/tf_servning_keras_mobilenetv2/versions/1:predict\"\n",
    "data = {\"signature_name\":\"prediction\",\n",
    "        \"instances\":[{\"images\":image.tolist()}]}\n",
    "data = json.dumps(data)\n"
   ]
  },
  {
   "cell_type": "code",
   "execution_count": null,
   "metadata": {},
   "outputs": [],
   "source": [
    "import sys\n",
    "labels = ['T-shirt/top' ,'Trouser','Pullover','Dress','Coat','Sandal','Shirt','Sneaker','Bag', 'Ankle boot']\n",
    "try:\n",
    "    response = requests.post(url,data=data)\n",
    "    response = response.json()\n",
    "    highest_index = np.argmax(response['predictions'])\n",
    "    print(labels[highest_index])\n",
    "except:\n",
    "    print(sys.exc_info()[0])"
   ]
  },
  {
   "cell_type": "markdown",
   "metadata": {},
   "source": [
    "for medium only\n",
    "# Conclusion \n",
    "\n",
    "### TODO \n",
    "Thank you for ready and If you have any question or suggests, \n",
    "please leave them down in the comments"
   ]
  },
  {
   "cell_type": "markdown",
   "metadata": {
    "collapsed": true
   },
   "source": [
    "# References:\n",
    "- [1] https://towardsdatascience.com/epoch-vs-iterations-vs-batch-size-4dfb9c7ce9c9\n",
    "- https://medium.com/@tmlabonte/serving-image-based-deep-learning-models-with-tensorflow-servings-restful-api-d365c16a7dc4"
   ]
  },
  {
   "cell_type": "code",
   "execution_count": null,
   "metadata": {
    "collapsed": true
   },
   "outputs": [],
   "source": []
  }
 ],
 "metadata": {
  "kernelspec": {
   "display_name": "Python 3",
   "language": "python",
   "name": "python3"
  },
  "language_info": {
   "codemirror_mode": {
    "name": "ipython",
    "version": 3
   },
   "file_extension": ".py",
   "mimetype": "text/x-python",
   "name": "python",
   "nbconvert_exporter": "python",
   "pygments_lexer": "ipython3",
   "version": "3.6.6"
  }
 },
 "nbformat": 4,
 "nbformat_minor": 2
}
